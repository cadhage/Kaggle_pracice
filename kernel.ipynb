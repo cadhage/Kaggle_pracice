{
  "cells": [
    {
      "metadata": {
        "_uuid": "8f2839f25d086af736a60e9eeb907d3b93b6e0e5",
        "_cell_guid": "b1076dfc-b9ad-4769-8c92-a6c4dae69d19",
        "trusted": true
      },
      "cell_type": "code",
      "source": "# This Python 3 environment comes with many helpful analytics libraries installed\n# It is defined by the kaggle/python docker image: https://github.com/kaggle/docker-python\n# For example, here's several helpful packages to load in \n\nimport numpy as np # linear algebra\nimport pandas as pd # data processing, CSV file I/O (e.g. pd.read_csv)\n\n# Input data files are available in the \"../input/\" directory.\n# For example, running this (by clicking run or pressing Shift+Enter) will list the files in the input directory\n\nimport os\nprint(os.listdir(\"../input\"))\n\n# Any results you write to the current directory are saved as output.",
      "execution_count": null,
      "outputs": []
    },
    {
      "metadata": {
        "_cell_guid": "79c7e3d0-c299-4dcb-8224-4455121ee9b0",
        "_uuid": "d629ff2d2480ee46fbb7e2d37f6b5fab8052498a",
        "trusted": true
      },
      "cell_type": "code",
      "source": "trainA=pd.read_csv(\"../input/train/AggregateData_Train.csv\")\n#trainT=pd.read_csv(\"../input/train/TransactionData_Train.csv\")\ntestA=pd.read_csv(\"../input/testffguyfyuf/AggregateData_Test.csv\")\n#testT=pd.read_csv(\"../input/testffguyfyuf/TransactionData_Test.csv\")",
      "execution_count": null,
      "outputs": []
    },
    {
      "metadata": {
        "trusted": true,
        "_uuid": "f075eb6ea125b87da0f04da4d5072519de1aa906"
      },
      "cell_type": "code",
      "source": "testA.head()",
      "execution_count": null,
      "outputs": []
    },
    {
      "metadata": {
        "trusted": true,
        "_uuid": "1f0c123a7e61bdb5c630270c2afdf4b2d629dde4"
      },
      "cell_type": "code",
      "source": "def reffU(data): \n    data=data.replace('?', 0);\n    data.fillna('0', inplace=True)\n    #data.isnull().sum();\n    data.drop(['V1', 'V2'], inplace=True, axis=1)\n    return data;",
      "execution_count": null,
      "outputs": []
    },
    {
      "metadata": {
        "trusted": true,
        "_uuid": "3eaaca4860f2d0292bf09a5af2466d33413b4bf5"
      },
      "cell_type": "code",
      "source": "from sklearn.preprocessing import MinMaxScaler\nfrom sklearn import preprocessing\ndef reff(data): \n    scaled_df= data.copy()\n    scaled_df1= data.copy()\n    col_names=['V3', 'V4', 'V5', 'V6', 'V7', 'V8', 'V9', 'V10', 'V11', 'V12',\n           'V13', 'V14', 'V15', 'V16', 'V17', 'V18', 'V19', 'V20', 'V21', 'V22',\n           'V23', 'V24', 'V25', 'V26', 'V27', 'V28', 'V29', 'V30', 'V31', 'V32',\n           'V33', 'V34', 'V35', 'V36', 'V37', 'V38', 'V39', 'V40', 'V41', 'V42',\n           'V43', 'V44', 'V45', 'V46', 'V47', 'V48', 'V49', 'V50', 'V51', 'V52',\n           'V53'];\n    features = scaled_df[col_names]\n    scaler = MinMaxScaler().fit(features.values)\n    features = scaler.transform(features.values)\n    scaled_df[col_names] = features; \n    scaled_df['UID']=scaled_df.UID.astype('category').cat.codes;\n    return scaled_df;",
      "execution_count": null,
      "outputs": []
    },
    {
      "metadata": {
        "trusted": true,
        "_uuid": "ee720c08bc71a0a16f1dd77e98d583025bb70f8f"
      },
      "cell_type": "code",
      "source": "# cat_columns = [\"UID\"]\n# from sklearn import preprocessing\n# le = preprocessing.LabelEncoder()\n# trainA[\"UID\"] = le.fit_transform(trainA[\"UID\"])\n# le.classes_\n# array([1, 2, 6])\n# le.transform() \n#trainA[\"UID\"]=trainA.values.astype(object)",
      "execution_count": null,
      "outputs": []
    },
    {
      "metadata": {
        "trusted": true,
        "_uuid": "bf79f3b0edbddc4de4e27e3477c4f2c61d19e1ae"
      },
      "cell_type": "code",
      "source": "# from sklearn.preprocessing import MinMaxScaler\n# scaled_df= trainA.copy()\n# scaled_df1= trainA.copy()\n# col_names=['V3', 'V4', 'V5', 'V6', 'V7', 'V8', 'V9', 'V10', 'V11', 'V12',\n#        'V13', 'V14', 'V15', 'V16', 'V17', 'V18', 'V19', 'V20', 'V21', 'V22',\n#        'V23', 'V24', 'V25', 'V26', 'V27', 'V28', 'V29', 'V30', 'V31', 'V32',\n#        'V33', 'V34', 'V35', 'V36', 'V37', 'V38', 'V39', 'V40', 'V41', 'V42',\n#        'V43', 'V44', 'V45', 'V46', 'V47', 'V48', 'V49', 'V50', 'V51', 'V52',\n#        'V53'];\n# features = scaled_df[col_names]\n# scaler = MinMaxScaler().fit(features.values)\n# features = scaler.transform(features.values)\n# scaled_df[col_names] = features;\n#scaled_features.head()\n# scaled_df.drop(['UID'], inplace=True, axis=1)\n# scaled_df=scaled_df.astype(np.float64)\n# x =scaled_df.values.astype(float)\n\n# # Create a minimum and maximum processor object\n# min_max_scaler = MinMaxScaler()\n\n# # Create an object to transform the data to fit minmax processor\n# x_scaled = min_max_scaler.fit_transform(x)\n\n# # Run the normalizer on the dataframe\n# df_normalized = pd.DataFrame(x_scaled)\n# scaled_df1=df_normalized;",
      "execution_count": null,
      "outputs": []
    },
    {
      "metadata": {
        "trusted": true,
        "_uuid": "1fe3aeab4ffd06a5603445b454e5adb8bba932bf"
      },
      "cell_type": "code",
      "source": "if __name__ == \"__main__\":\n    trainA = reffU(trainA) \n    testA= reffU(testA)\n    mungedtrain = reff(trainA) \n    mungedtest = reff(testA)\n   # mungedtrain.head()",
      "execution_count": null,
      "outputs": []
    },
    {
      "metadata": {
        "trusted": true,
        "_uuid": "8a4ac881e4d01889df05e299c1a5fd2829a62c98"
      },
      "cell_type": "code",
      "source": "testA.head()",
      "execution_count": null,
      "outputs": []
    },
    {
      "metadata": {
        "trusted": true,
        "_uuid": "e54a110e532aee036c2d8a26c531e36188a06aca"
      },
      "cell_type": "code",
      "source": "#mungedtrain\ny = mungedtrain[\"bad_flag\"];\nX=mungedtrain.drop(['bad_flag'], axis=1);\n#y_t = mungedtest[\"bad_flag\"];\n#",
      "execution_count": null,
      "outputs": []
    },
    {
      "metadata": {
        "trusted": true,
        "_uuid": "1f6526fa6c7d722d29587f1cd7276d518d6d02fb"
      },
      "cell_type": "code",
      "source": "#Try to convert those strings into numeric classes. How? Please find below the code for the same -\n\n# from sklearn import preprocessing\n# from sklearn.preprocessing import MinMaxScaler\n# number = preprocessing.LabelEncoder()\n# trainA[\"UID\"] = number.fit_transform(trainA.UID)\n# trainA.head()\n",
      "execution_count": null,
      "outputs": []
    },
    {
      "metadata": {
        "trusted": true,
        "_uuid": "956f881a48d59d6d1c8108deffcf533ef9ad8fb7"
      },
      "cell_type": "code",
      "source": "import xgboost as xgb\ngbm = xgb.XGBClassifier(\n                      learning_rate=0.01,  \n                      objective='gpu:binary:logistic', \n                      n_estimators=1000, \n                      max_depth=4).fit(X,y)\n#predictions = gbm.predict(y_t)",
      "execution_count": null,
      "outputs": []
    },
    {
      "metadata": {
        "trusted": true,
        "_uuid": "7533ca30fcd768e6bd6af3f895e9ec427484d07e"
      },
      "cell_type": "code",
      "source": "predictions = gbm.predict_proba(mungedtest)",
      "execution_count": null,
      "outputs": []
    },
    {
      "metadata": {
        "trusted": true,
        "_uuid": "a801c3ceb3ce95b5504630604337f82de2521c2e"
      },
      "cell_type": "code",
      "source": "#predictions[1]\ndf = pd.DataFrame(predictions, dtype='float')\ndf.drop([0], inplace=True, axis=1)\ndf.head()",
      "execution_count": null,
      "outputs": []
    },
    {
      "metadata": {
        "trusted": true,
        "_uuid": "65e69a3532cefc5b2827badf1c94a0ee7af6c7d1"
      },
      "cell_type": "code",
      "source": "#pdtest = pd.DataFrame({'UID':testA.UID.astype(object),'bad_flag':df};\npdtest = pd.DataFrame({'UID':testA.UID.astype(object)})\npdtest['bad_flag']=df\n#pdtest.to_csv('ggptest.csv', index=False)",
      "execution_count": null,
      "outputs": []
    },
    {
      "metadata": {
        "trusted": true,
        "_uuid": "d5e542a80da1aa8dadd4e93d15ec6420dc80f433"
      },
      "cell_type": "code",
      "source": "pdtest.to_csv('ggptest.csv', index=False);",
      "execution_count": null,
      "outputs": []
    },
    {
      "metadata": {
        "trusted": true,
        "_uuid": "d6247db09638b3aac25b6f6c8eadccd75fa20cff"
      },
      "cell_type": "code",
      "source": "",
      "execution_count": null,
      "outputs": []
    }
  ],
  "metadata": {
    "kernelspec": {
      "display_name": "Python 3",
      "language": "python",
      "name": "python3"
    },
    "language_info": {
      "name": "python",
      "version": "3.6.6",
      "mimetype": "text/x-python",
      "codemirror_mode": {
        "name": "ipython",
        "version": 3
      },
      "pygments_lexer": "ipython3",
      "nbconvert_exporter": "python",
      "file_extension": ".py"
    }
  },
  "nbformat": 4,
  "nbformat_minor": 1
}